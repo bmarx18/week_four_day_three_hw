{
 "cells": [
  {
   "cell_type": "markdown",
   "metadata": {},
   "source": [
    "# Time/Space Complexity - Intro to Data Structures (User Defined)\n",
    "\n",
    "### Topics to discuss today:\n",
    "\n",
    "<ul>\n",
    "    <li>Time and Space Complexity - What is it/How do we measure it</li>\n",
    "    <li>Asymptotic Analysis</li>\n",
    "    <li><strong>Data Structures</strong></li>\n",
    "    <li>Some of the popular sorting algorithms</li>\n",
    "</ul>\n",
    "\n",
    "### Data Structures to discuss:\n",
    "- Arrays\n",
    "- Stacks\n",
    "- Queues\n",
    "- Linked Lists\n",
    "    - Singly Linked Lists\n",
    "    - Traversing A Linked List\n",
    "    - Finding a node in a linked list\n",
    "    - Adding to a linked list\n"
   ]
  },
  {
   "cell_type": "markdown",
   "metadata": {},
   "source": [
    "## Time and Space Complexity\n",
    "\n",
    "#### What is it?\n",
    "\n",
    "Time and space complexity is the measure of how much time a given action(function) will take to solve a problem. In the same fashion, we determine how much a given data structure will need in terms of memory allocation. A problem can have multiple solutions and finding the optimal solution for the problem needs to be analyzed in time and space.\n",
    "\n",
    "#### How do we measure Time and Space Complexity?\n",
    "\n",
    "In order to measure time and space complexity we use Asymptotic analysis. The reason for this is because we need a way to measure different algorithms (functions) based on the size of their inputs in a mathmatical way. For example, we could have a function that is computed as f(n) and another that is g(n^2). All things around the function staying constant, the only thing that changes is the size of the input. Below is the chart that shows the different Asymptotic analysis formats. "
   ]
  },
  {
   "cell_type": "markdown",
   "metadata": {},
   "source": [
    "<table style=\"text-align:center;\" class=\"table table-bordered\">\n",
    "<tbody><tr>\n",
    "<td>constant</td>\n",
    "<td>−</td>\n",
    "<td>Ο(1)</td>\n",
    "</tr>\n",
    "<tr>\n",
    "<td>logarithmic</td>\n",
    "<td>−</td>\n",
    "<td>Ο(log n)</td>\n",
    "</tr>\n",
    "<tr>\n",
    "<td>linear</td>\n",
    "<td>−</td>\n",
    "<td>Ο(n)</td>\n",
    "</tr>\n",
    "<tr>\n",
    "<td>Linear Logarithmic</td>\n",
    "<td>−</td>\n",
    "<td>Ο(n log n)</td>\n",
    "</tr>\n",
    "<tr>\n",
    "<td>quadratic</td>\n",
    "<td>−</td>\n",
    "<td>Ο(n<sup>2</sup>)</td>\n",
    "</tr>\n",
    "<tr>\n",
    "<td>cubic</td>\n",
    "<td>−</td>\n",
    "<td>Ο(n<sup>3</sup>)</td>\n",
    "</tr>\n",
    "<tr>\n",
    "<td>polynomial</td>\n",
    "<td>−</td>\n",
    "<td>n<sup>Ο(1)</sup></td>\n",
    "</tr>\n",
    "<tr>\n",
    "<td>exponential</td>\n",
    "<td>−</td>\n",
    "<td>2<sup>Ο(n)</sup></td>\n",
    "</tr>\n",
    "</tbody></table>"
   ]
  },
  {
   "cell_type": "code",
   "execution_count": 1,
   "metadata": {},
   "outputs": [],
   "source": [
    "#constant O(1)\n",
    "def add_nums(num1, num2):\n",
    "    return num1 + num2\n",
    "\n",
    "#logarithmic O(log n)\n",
    "#Binary Search\n",
    "#breaking a list down into parts to search for an index\n",
    "\n",
    "#linear O(n)\n",
    "#increase with the number of inputs\n",
    "arr = [1, 2, 3]\n",
    "arr2 = [1, 2, 3, 4, 5, 6, 7]\n",
    "for x in arr:\n",
    "    print(x * 2)\n",
    "    \n",
    "# linear logarithmic O(n log n)\n",
    "# Merge Sort\n",
    "\n",
    "#quadratic O(n^2)\n",
    "arr2 = [1, 2, 3, 4, 5, 6, 7]\n",
    "for x in arr2:\n",
    "    for j in arr2:\n",
    "        if x != j:\n",
    "            print(x+j)\n",
    "            \n",
    "#cubic O (n^3)\n",
    "arr = [1, 2, 3, 4, 5, 6, 7]\n",
    "for i in arr:\n",
    "    for j in arr:\n",
    "        for k in arr:\n",
    "\n",
    "        "
   ]
  },
  {
   "cell_type": "markdown",
   "metadata": {},
   "source": [
    "## Revisit an old codewars problem and see if it is possible to refactor that problem. If not, try to comment the time complexity of each line in your function."
   ]
  },
  {
   "cell_type": "code",
   "execution_count": null,
   "metadata": {},
   "outputs": [],
   "source": [
    "arr = [5,10,2,3]\n",
    "def check_doubles(arr):\n",
    "    for nums in arr: # O(n)\n",
    "        if nums *2 in arr: # O(n)\n",
    "            return True #O(1)\n",
    "        else:\n",
    "            continue\n",
    "    return False #O(1)\n",
    "print(check_doubles([3,1,7,11]))"
   ]
  },
  {
   "cell_type": "code",
   "execution_count": null,
   "metadata": {},
   "outputs": [],
   "source": [
    "#solution utilizing a dictionary because they are great for time & space complexity! \n",
    "\n",
    "def check_double(arr):\n",
    "    \n",
    "    d = {}\n",
    "    \n",
    "    \n",
    "    for i in range(len(arr)): #O(n)\n",
    "        if (arr[i] * 2) in d or (arr[i] / 2) in d: #O(1)\n",
    "            return True\n",
    "        else:\n",
    "            d[arr[i]] = i #O(1)\n",
    "            \n",
    "    return False\n",
    "\n",
    "check_double([10,2,5,3])"
   ]
  },
  {
   "cell_type": "code",
   "execution_count": null,
   "metadata": {},
   "outputs": [],
   "source": [
    "def my_range(stop, start, step = 10):\n",
    "    while start < stop: #O(n)\n",
    "        yield start\n",
    "        start += step #O(1)\n",
    "        \n",
    "        \n",
    "for i in my_range(100, 1): #O(n)\n",
    "    my_generator_value = i #O(n)\n",
    "    print(my_generator_value)\n",
    "\n",
    "\n",
    "        \n",
    "        \n"
   ]
  },
  {
   "cell_type": "code",
   "execution_count": null,
   "metadata": {},
   "outputs": [],
   "source": [
    "def disemvowel(string_):\n",
    "    vowels = ['a', 'e', 'i', 'o', 'u']\n",
    "    new_string = string_\n",
    "    for i in string_: #O(n)\n",
    "        if i.lower() in vowels: # search O(n)\n",
    "            new_string = new_string.replace(i, \"\") \n",
    "    return new_string\n"
   ]
  },
  {
   "cell_type": "code",
   "execution_count": null,
   "metadata": {},
   "outputs": [],
   "source": [
    "def get_count(sentence):\n",
    "    vowel = ['a', 'e', 'i', 'o', 'u']\n",
    "    count = 0\n",
    "    for letter in sentence: #O(n)\n",
    "        if letter in vowel:# O(n)\n",
    "            count += 1\n",
    "    return (count)\n",
    "\n",
    "get_count(\"situations\")\n"
   ]
  },
  {
   "cell_type": "code",
   "execution_count": 2,
   "metadata": {},
   "outputs": [
    {
     "data": {
      "text/plain": [
       "5"
      ]
     },
     "execution_count": 2,
     "metadata": {},
     "output_type": "execute_result"
    }
   ],
   "source": [
    "def get_count(sentence):\n",
    "    vowel = {\n",
    "        'a':'a', \n",
    "        'e':'e',\n",
    "        'i':'i',\n",
    "        'o':'o',\n",
    "        'u':'u'\n",
    "    }\n",
    "    count = 0\n",
    "    for letter in sentence: #O(n)\n",
    "        if letter in vowel: #O(1)\n",
    "            count += 1\n",
    "    return (count)\n",
    "\n",
    "get_count(\"situations\")\n"
   ]
  },
  {
   "cell_type": "code",
   "execution_count": null,
   "metadata": {},
   "outputs": [],
   "source": [
    "def parts_sums(ls):\n",
    "    emptylist = []\n",
    "    sums = sum(ls)\n",
    "    while len(ls) > 0:   \n",
    "        emptylist.append(sums)\n",
    "        sums -= ls.pop(0)\n",
    "    emptylist.append(0)\n",
    "    return emptylist"
   ]
  },
  {
   "cell_type": "code",
   "execution_count": 3,
   "metadata": {},
   "outputs": [
    {
     "data": {
      "text/plain": [
       "[20, 20, 19, 16, 10, 0]"
      ]
     },
     "execution_count": 3,
     "metadata": {},
     "output_type": "execute_result"
    }
   ],
   "source": [
    "def sum_parts(arr):\n",
    "    \n",
    "    sum_val = sum(arr)\n",
    "    sum_list = [sum_val]\n",
    "    minus_val = 0\n",
    "    for num in arr:\n",
    "        minus_val += num\n",
    "        sum_list.append(sum_val - minus_val)\n",
    "        \n",
    "    return sum_list\n",
    "\n",
    "sum_parts([0, 1, 3, 6, 10])\n"
   ]
  },
  {
   "cell_type": "code",
   "execution_count": null,
   "metadata": {},
   "outputs": [],
   "source": []
  },
  {
   "cell_type": "code",
   "execution_count": null,
   "metadata": {},
   "outputs": [],
   "source": []
  },
  {
   "cell_type": "markdown",
   "metadata": {},
   "source": [
    "## Arrays"
   ]
  },
  {
   "cell_type": "markdown",
   "metadata": {},
   "source": [
    "In python we benefit from the dynamic array which means the block of memory will expand as needed for the given input to the array. In traditional arrays (depending on the type of operating system) we will usually store our inputs in 4 or 8 consecutive blocks of memory. Below is a diagram of how that looks under the hood:\n",
    "\n",
    "\n",
    "<img src=\"http://www.mathcs.emory.edu/~cheung/Courses/170/Syllabus/09/FIGS/array02x.gif\" style=\"height:250px; width:350px;\">"
   ]
  },
  {
   "cell_type": "code",
   "execution_count": null,
   "metadata": {},
   "outputs": [],
   "source": []
  },
  {
   "cell_type": "markdown",
   "metadata": {},
   "source": [
    "### Let's take a look at some of the time and space analysis of arrays"
   ]
  },
  {
   "cell_type": "code",
   "execution_count": null,
   "metadata": {},
   "outputs": [],
   "source": [
    "# Indexing an Array(list)\n",
    " # Constant Time and Space - O(1)\n",
    "#arr[i]\n",
    "\n",
    "# Searching through an array(list)\n",
    "# Linear Time - O(n) Constant Space - O(1)\n",
    "\n",
    "    \n",
    "# Copying an array\n",
    "# Linear Time - O(n) AND Linear Space - O(n)\n",
    "\n",
    "\n",
    "# Setting an index in an array(list)\n",
    "# Constant Time AND Constant Space - O(1)\n",
    "#arr[i] = 7"
   ]
  },
  {
   "cell_type": "markdown",
   "metadata": {},
   "source": [
    "## Stacks and Queues\n",
    "\n",
    "** Stacks ** as the name suggests is a data structure that allows for data to follow the Last In First Out priciple(LIFO). Think of a stack of pancakes for example. To get the first pancake you would  start with the top and go down.\n",
    "\n",
    "##### Searching through a stack will be Linear Time O(n) - Constant Space O(1)\n",
    "##### Selecting the last item will be done in Constant Time O(1) - Constant Space O(1)\n",
    "##### Adding to the stack should take Constant Time O(1) - Constant Space O(1)\n",
    "\n",
    "** Queues ** are similar but in this case follow the First In First Out principle(FIFO). Think of this as a line in a black friday sale. The first person camped out for the big screen tv is the first to get it.\n",
    "\n",
    "##### Searching through a queue will be Linear Time O(n) - Constant Space O(1)\n",
    "##### Selecting the first item will be done in Constant Time O(1) - Constant Space O(1)\n",
    "##### Adding to the queue should take Constant Time O(1) - Constant Space O(1)"
   ]
  },
  {
   "cell_type": "code",
   "execution_count": 11,
   "metadata": {},
   "outputs": [
    {
     "name": "stdout",
     "output_type": "stream",
     "text": [
      "['pancake1', 'pancake2']\n",
      "['pancake1', 'pancake2', 'pancake3']\n",
      "['pancake1', 'pancake2', 'pancake3', 'pancake4']\n",
      "pancake4\n",
      "pancake3\n",
      "pancake2\n",
      "pancake1\n"
     ]
    }
   ],
   "source": [
    "#Stacks\n",
    "\n",
    "stack = [\"pancake1\"]\n",
    "stack.append(\"pancake2\")\n",
    "print(stack)\n",
    "stack.append(\"pancake3\")\n",
    "print(stack)\n",
    "stack.append('pancake4')\n",
    "print(stack)\n",
    "print(stack.pop())\n",
    "print(stack.pop())\n",
    "print(stack.pop())\n",
    "print(stack.pop())\n"
   ]
  },
  {
   "cell_type": "code",
   "execution_count": 15,
   "metadata": {},
   "outputs": [
    {
     "name": "stdout",
     "output_type": "stream",
     "text": [
      "['shopper', 'shopper2']\n",
      "['shopper', 'shopper2', 'shopper3']\n",
      "shopper\n",
      "shopper2\n",
      "shopper3\n"
     ]
    }
   ],
   "source": [
    "#queue\n",
    "queue = [\"shopper\"]\n",
    "queue.append(\"shopper2\")\n",
    "print(queue)\n",
    "queue.append('shopper3')\n",
    "print(queue)\n",
    "print(queue.pop(0))\n",
    "print(queue.pop(0))\n",
    "print(queue.pop(0))"
   ]
  },
  {
   "cell_type": "code",
   "execution_count": 28,
   "metadata": {},
   "outputs": [
    {
     "name": "stdout",
     "output_type": "stream",
     "text": [
      "deque(['a', 'b', 'c'])\n",
      "c\n",
      "b\n",
      "a\n",
      "deque(['a'])\n",
      "deque(['b', 'a'])\n",
      "deque(['c', 'b', 'a'])\n",
      "a\n",
      "b\n",
      "c\n"
     ]
    }
   ],
   "source": [
    "from collections import deque\n",
    "\n",
    "queue = deque()\n",
    "\n",
    "dir(queue)\n",
    "\n",
    "#Stack\n",
    "queue.append('a')\n",
    "queue.append('b')\n",
    "queue.append('c')\n",
    "print(queue)\n",
    "print(queue.pop())\n",
    "print(queue.pop())\n",
    "print(queue.pop())\n",
    "\n",
    "#Queue\n",
    "queue2 = deque()\n",
    "queue2.appendleft('a')\n",
    "print(queue2)\n",
    "queue2.appendleft('b')\n",
    "print(queue2)\n",
    "queue2.appendleft('c')\n",
    "print(queue2)\n",
    "\n",
    "print(queue2.pop())\n",
    "print(queue2.pop())\n",
    "print(queue2.pop())\n",
    "\n",
    "\n",
    "\n"
   ]
  },
  {
   "cell_type": "code",
   "execution_count": null,
   "metadata": {},
   "outputs": [],
   "source": []
  },
  {
   "cell_type": "markdown",
   "metadata": {},
   "source": [
    "## Linked List (Data Structure)\n",
    "\n",
    "A linked list is created by using the node class. We create a Node object and create another class to use this node object. We pass the appropriate values thruugh the node object to point the to the next data elements.\n",
    "\n",
    "There are some advantages and disadvantages with this data structure. **Advantages** Linked Lists can save memory because they can be flexibile with memory management which saves memory. **Disadvantages** Finding or adding to the list requires traversing the entire list."
   ]
  },
  {
   "cell_type": "code",
   "execution_count": 40,
   "metadata": {},
   "outputs": [
    {
     "name": "stdout",
     "output_type": "stream",
     "text": [
      "Sun\n",
      "Mon\n",
      "Tues\n",
      "Wed\n",
      "Thurs\n",
      "Fri\n",
      "Sat\n"
     ]
    }
   ],
   "source": [
    "# A complete implementation of a linkedlist\n",
    "\n",
    "#2 Components to this structure -- A Node Class, LinkedList class\n",
    "\n",
    "class Node():\n",
    "    def __init__(self, value):\n",
    "        self.value = value\n",
    "        self.next = None\n",
    "        \n",
    "class LinkedList():\n",
    "    def __init__(self):\n",
    "        self.head = None\n",
    "        \n",
    "    #pushOn - place item at the head of the linked list\n",
    "    def pushOn(self, new_value):\n",
    "        new_node = Node(new_value)\n",
    "        new_node.next = self.head\n",
    "        self.head = new_node\n",
    "        \n",
    "    #insertAfter- place an item after another in the linked list\n",
    "    def insertAfter(self, prev_node, new_value):\n",
    "        #Check if the previous node even exists\n",
    "        if prev_node is None:\n",
    "            print(\"The given previous node must not be empty\")\n",
    "            return\n",
    "        # If the Node is not empty, then create a new node\n",
    "        new_node = Node(new_value)\n",
    "        \n",
    "        # Update the new_node's next pointer to point to the prev_node's next\n",
    "        new_node.next = prev_node.next\n",
    "        \n",
    "        #Update the previous nodes to point to the new node's value\n",
    "        prev_node.next = new_node\n",
    "    \n",
    "    #append_ that will add a new node to the END of the linked list\n",
    "    def append_(self, new_value):\n",
    "        # Create New Node with a new value\n",
    "        new_node = Node(new_value)\n",
    "        \n",
    "        #Check if the linked list is empty\n",
    "        #if it is, make this new node the head node(beginning of the list)\n",
    "        if self.head is None:\n",
    "            self.head = new_node\n",
    "            \n",
    "        #if not empty, traverse linked list and append to the end\n",
    "        last = self.head\n",
    "        \n",
    "        #while node has a next pointer, change last to become next\n",
    "        while last.next:\n",
    "            last = last.next\n",
    "            \n",
    "        #Change current last node value to point to the new value\n",
    "        last.next = new_node   \n",
    "    \n",
    "    #traverse - move to through the linked list\n",
    "    def traverse(self):\n",
    "        temp = self.head\n",
    "        # While temp is NOT None -> keep looping through the list until your reach a none value\n",
    "        while temp:\n",
    "            print(temp.value)\n",
    "            temp = temp.next \n",
    "    \n",
    "\n",
    "weekdays_list = LinkedList()\n",
    "weekdays_list.pushOn('Mon')\n",
    "weekdays_list.append_('Tues')\n",
    "weekdays_list.append_('Thurs')\n",
    "weekdays_list.append_('Sat')\n",
    "weekdays_list.insertAfter(weekdays_list.head.next, \"Wed\")\n",
    "weekdays_list.insertAfter(weekdays_list.head.next.next.next, \"Fri\")\n",
    "weekdays_list.pushOn(\"Sun\")\n",
    "weekdays_list.traverse()\n",
    "    \n",
    "    \n",
    "    \n",
    "        \n"
   ]
  },
  {
   "cell_type": "code",
   "execution_count": 31,
   "metadata": {},
   "outputs": [
    {
     "name": "stdout",
     "output_type": "stream",
     "text": [
      "True\n"
     ]
    }
   ],
   "source": [
    "\n"
   ]
  },
  {
   "cell_type": "code",
   "execution_count": 7,
   "metadata": {},
   "outputs": [
    {
     "name": "stdout",
     "output_type": "stream",
     "text": [
      "1500.0\n",
      "{'rent': 1000.0, 'laundry': 150.0}\n",
      "{'rent': 2000.0, 'laundry': 150.0}\n"
     ]
    }
   ],
   "source": [
    "properties = {\n",
    "    \"3302 W Pensacola\": {\n",
    "        'income': {\n",
    "            'rent': 1500.00,\n",
    "            'laundry': 150.00\n",
    "             \n",
    "        }\n",
    "    },\n",
    "    \"3123 W Main St\": {\n",
    "        'income': {\n",
    "            'rent': 1000.00,\n",
    "            'laundry': 150.00\n",
    "             \n",
    "        }\n",
    "    }\n",
    "}\n",
    "print(properties['3302 W Pensacola']['income']['rent'])\n",
    "print(properties['3123 W Main St']['income'])\n",
    "\n",
    "properties['3302 W Pensacola']['income']['rent'] = 2000.00\n",
    "print(properties['3302 W Pensacola']['income'])"
   ]
  },
  {
   "cell_type": "code",
   "execution_count": null,
   "metadata": {},
   "outputs": [],
   "source": []
  },
  {
   "cell_type": "code",
   "execution_count": null,
   "metadata": {},
   "outputs": [],
   "source": []
  },
  {
   "cell_type": "code",
   "execution_count": null,
   "metadata": {},
   "outputs": [],
   "source": []
  },
  {
   "cell_type": "code",
   "execution_count": null,
   "metadata": {},
   "outputs": [],
   "source": []
  },
  {
   "cell_type": "code",
   "execution_count": null,
   "metadata": {},
   "outputs": [],
   "source": []
  },
  {
   "cell_type": "code",
   "execution_count": null,
   "metadata": {},
   "outputs": [],
   "source": []
  }
 ],
 "metadata": {
  "kernelspec": {
   "display_name": "Python 3 (ipykernel)",
   "language": "python",
   "name": "python3"
  },
  "language_info": {
   "codemirror_mode": {
    "name": "ipython",
    "version": 3
   },
   "file_extension": ".py",
   "mimetype": "text/x-python",
   "name": "python",
   "nbconvert_exporter": "python",
   "pygments_lexer": "ipython3",
   "version": "3.9.4"
  }
 },
 "nbformat": 4,
 "nbformat_minor": 2
}
